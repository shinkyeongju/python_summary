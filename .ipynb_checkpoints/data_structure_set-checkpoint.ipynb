{
 "cells": [
  {
   "cell_type": "markdown",
   "metadata": {},
   "source": [
    " # 자료형\n",
    " 1. 숫자형\n",
    " 2. 문자열\n",
    " 3. 리스트\n",
    " 4. 튜플\n",
    " 5. 딕셔너리\n",
    " 6. 집합\n",
    " 7. 불"
   ]
  },
  {
   "cell_type": "markdown",
   "metadata": {},
   "source": [
    "## 6. 집합\n",
    "- s1 = set([1,2,3])  --> 괄호 안에 리시트를 입력하여 만들거나 문자열도 가능\n",
    "- 중복 혀용 X\n",
    "- 요소의 순서 X"
   ]
  },
  {
   "cell_type": "code",
   "execution_count": 4,
   "metadata": {},
   "outputs": [
    {
     "name": "stdout",
     "output_type": "stream",
     "text": [
      "{1, 2, 3}\n",
      "{'l', 'o', 'e', 'h'}\n"
     ]
    }
   ],
   "source": [
    "a = set([1,2,3])\n",
    "b = set('hello')\n",
    "print(a)\n",
    "print(b)                          # 순서가 없다"
   ]
  },
  {
   "cell_type": "code",
   "execution_count": 7,
   "metadata": {},
   "outputs": [
    {
     "ename": "TypeError",
     "evalue": "set expected at most 1 arguments, got 3",
     "output_type": "error",
     "traceback": [
      "\u001b[1;31m---------------------------------------------------------------------------\u001b[0m",
      "\u001b[1;31mTypeError\u001b[0m                                 Traceback (most recent call last)",
      "\u001b[1;32m<ipython-input-7-a110abf76710>\u001b[0m in \u001b[0;36m<module>\u001b[1;34m\u001b[0m\n\u001b[1;32m----> 1\u001b[1;33m \u001b[0mc\u001b[0m \u001b[1;33m=\u001b[0m \u001b[0mset\u001b[0m\u001b[1;33m(\u001b[0m\u001b[1;34m's'\u001b[0m\u001b[1;33m,\u001b[0m\u001b[1;34m's1'\u001b[0m\u001b[1;33m,\u001b[0m\u001b[1;34m's3'\u001b[0m\u001b[1;33m)\u001b[0m          \u001b[1;31m# 오류\u001b[0m\u001b[1;33m\u001b[0m\u001b[1;33m\u001b[0m\u001b[0m\n\u001b[0m",
      "\u001b[1;31mTypeError\u001b[0m: set expected at most 1 arguments, got 3"
     ]
    }
   ],
   "source": [
    "c = set('s','s1','s3')          # 오류"
   ]
  },
  {
   "cell_type": "markdown",
   "metadata": {},
   "source": [
    "### 집합 연산 - 교집합"
   ]
  },
  {
   "cell_type": "code",
   "execution_count": 9,
   "metadata": {},
   "outputs": [
    {
     "name": "stdout",
     "output_type": "stream",
     "text": [
      "{'c', 'd'}\n"
     ]
    }
   ],
   "source": [
    "a = set(['a','b','c','d'])\n",
    "b = set(['c','d','e','f'])\n",
    "print(a & b)                    # 교집합 기호 % 를 사용하여 교집합을 구한다"
   ]
  },
  {
   "cell_type": "code",
   "execution_count": 18,
   "metadata": {},
   "outputs": [
    {
     "name": "stdout",
     "output_type": "stream",
     "text": [
      "{'c', 'd'}\n"
     ]
    }
   ],
   "source": [
    "a = set(['a','b','c','d'])\n",
    "b = set(['c','d','e','f'])\n",
    "print(a.intersection(b))        # s2.intersection(s1)의 형태로도 교집합을 구할 수 있다"
   ]
  },
  {
   "cell_type": "code",
   "execution_count": 10,
   "metadata": {},
   "outputs": [
    {
     "name": "stdout",
     "output_type": "stream",
     "text": [
      "{'b', 'a'}\n"
     ]
    }
   ],
   "source": [
    "a = set(['a','b','c','d'])\n",
    "b = set(['c','d','e','f'])\n",
    "print(a - b)                    # 차집합 기호 - 를 사용하여 차집합을 구한다"
   ]
  },
  {
   "cell_type": "code",
   "execution_count": 20,
   "metadata": {},
   "outputs": [
    {
     "name": "stdout",
     "output_type": "stream",
     "text": [
      "{'b', 'a'}\n"
     ]
    }
   ],
   "source": [
    "a = set(['a','b','c','d'])\n",
    "b = set(['c','d','e','f'])\n",
    "print(a.difference(b))          # s2.difference(b)의 형태로도 차집합을 구할 수 있다"
   ]
  },
  {
   "cell_type": "code",
   "execution_count": 15,
   "metadata": {},
   "outputs": [
    {
     "name": "stdout",
     "output_type": "stream",
     "text": [
      "{'e', 'c', 'd', 'b', 'f', 'a'}\n"
     ]
    }
   ],
   "source": [
    "a = set(['a','b','c','d'])\n",
    "b = set(['c','d','e','f'])\n",
    "print(a | b)                    # 합집합 기호 + 를 사용하여 합집합을 구한다"
   ]
  },
  {
   "cell_type": "code",
   "execution_count": 14,
   "metadata": {},
   "outputs": [
    {
     "name": "stdout",
     "output_type": "stream",
     "text": [
      "{'e', 'c', 'd', 'b', 'f', 'a'}\n"
     ]
    }
   ],
   "source": [
    "a = set(['a','b','c','d'])\n",
    "b = set(['c','d','e','f'])\n",
    "print(a.union(b))               # s2.union(s1)의 형태로도 합집합을 구할 수 있다"
   ]
  },
  {
   "cell_type": "markdown",
   "metadata": {},
   "source": [
    "### 집합 자료형 관련 함수 - add"
   ]
  },
  {
   "cell_type": "code",
   "execution_count": 22,
   "metadata": {},
   "outputs": [
    {
     "name": "stdout",
     "output_type": "stream",
     "text": [
      "{'z', 'c', 'd', 'b', 'a'}\n"
     ]
    }
   ],
   "source": [
    "a = set(['a','b','c','d'])\n",
    "a.add('z')\n",
    "print(a)                        # add함수를 사용하여 요소 'z'를 추가"
   ]
  },
  {
   "cell_type": "code",
   "execution_count": 25,
   "metadata": {},
   "outputs": [
    {
     "name": "stdout",
     "output_type": "stream",
     "text": [
      "{'apple', 'mango', 'banana', 'grape', 'orange', 'kiwi'}\n"
     ]
    }
   ],
   "source": [
    "a = set(['apple','orange','kiwi'])\n",
    "a.update(['banana','mango','grape'])\n",
    "print(a)                        # update함수를 사용하여 요소 여러개를 추가"
   ]
  },
  {
   "cell_type": "code",
   "execution_count": 26,
   "metadata": {},
   "outputs": [
    {
     "name": "stdout",
     "output_type": "stream",
     "text": [
      "{'orange', 'kiwi'}\n"
     ]
    }
   ],
   "source": [
    "a = set(['apple','orange','kiwi'])\n",
    "a.remove('apple')\n",
    "print(a)                        # remove함수를 사용하여 요소 'apple'을 삭제"
   ]
  }
 ],
 "metadata": {
  "kernelspec": {
   "display_name": "Python 3",
   "language": "python",
   "name": "python3"
  },
  "language_info": {
   "codemirror_mode": {
    "name": "ipython",
    "version": 3
   },
   "file_extension": ".py",
   "mimetype": "text/x-python",
   "name": "python",
   "nbconvert_exporter": "python",
   "pygments_lexer": "ipython3",
   "version": "3.7.5"
  }
 },
 "nbformat": 4,
 "nbformat_minor": 2
}
