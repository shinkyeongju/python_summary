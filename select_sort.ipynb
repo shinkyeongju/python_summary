{
 "cells": [
  {
   "cell_type": "code",
   "execution_count": 1,
   "metadata": {},
   "outputs": [],
   "source": [
    "def sel_sort(a):\n",
    "    n = len(a)\n",
    "    print('n = ',n)\n",
    "    for i in range(0, n - 1):\n",
    "        min_idx = i\n",
    "        print('i =',i)\n",
    "        for j in range(i + 1, n):\n",
    "            print('j ==',j)\n",
    "            if a[j] < a[min_idx]:\n",
    "                min_idx = j\n",
    "        a[i], a[min_idx] = a[min_idx], a[i]\n",
    "        print(a)     # 정렬 과정 출력하기"
   ]
  }
 ],
 "metadata": {
  "kernelspec": {
   "display_name": "Python 3",
   "language": "python",
   "name": "python3"
  },
  "language_info": {
   "codemirror_mode": {
    "name": "ipython",
    "version": 3
   },
   "file_extension": ".py",
   "mimetype": "text/x-python",
   "name": "python",
   "nbconvert_exporter": "python",
   "pygments_lexer": "ipython3",
   "version": "3.7.5"
  }
 },
 "nbformat": 4,
 "nbformat_minor": 2
}
