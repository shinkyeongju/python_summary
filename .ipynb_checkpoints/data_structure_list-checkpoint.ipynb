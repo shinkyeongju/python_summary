{
 "cells": [
  {
   "cell_type": "markdown",
   "metadata": {},
   "source": [
    " # 자료형\n",
    " 1. 숫자형\n",
    " 2. 문자열\n",
    " 3. 리스트\n",
    " 4. 튜플\n",
    " 5. 딕셔너리\n",
    " 6. 집합\n",
    " 7. 불"
   ]
  },
  {
   "cell_type": "markdown",
   "metadata": {},
   "source": [
    "## 3. 리스트\n",
    "- a = list[요소, 요소, 요소, ...]\n",
    "- 리스트 안에 리스트 안에 리스트.. 중첩리스트 사용 가능\n",
    "- 리스트 연산자 ( +, * )"
   ]
  },
  {
   "cell_type": "markdown",
   "metadata": {},
   "source": [
    "### 리스트 생성"
   ]
  },
  {
   "cell_type": "code",
   "execution_count": 2,
   "metadata": {},
   "outputs": [
    {
     "name": "stdout",
     "output_type": "stream",
     "text": [
      "[1, 2, 'three', '4']\n"
     ]
    }
   ],
   "source": [
    "a = [1, 2, 'three', '4']            # 리스트 안에 숫자, 문자 모두 가능\n",
    "print(a)"
   ]
  },
  {
   "cell_type": "markdown",
   "metadata": {},
   "source": [
    "### 중첩 리스트"
   ]
  },
  {
   "cell_type": "code",
   "execution_count": 5,
   "metadata": {},
   "outputs": [
    {
     "name": "stdout",
     "output_type": "stream",
     "text": [
      "[1, 2, [3, 4], [5, 6, 7]]\n",
      "[3, 4]\n",
      "3\n"
     ]
    }
   ],
   "source": [
    "a= [1, 2, [3,4],[5,6,7]]            # 중첩 리스트 사용\n",
    "print(a)\n",
    "print(a[2])\n",
    "print(a[2][0])                      # a[2]의 요소인 [3,4] 에서 0번째 인덱스인 3을 추출 --> a[2][0]"
   ]
  },
  {
   "cell_type": "markdown",
   "metadata": {},
   "source": [
    "### 리스트 연산 (+)"
   ]
  },
  {
   "cell_type": "code",
   "execution_count": 7,
   "metadata": {},
   "outputs": [
    {
     "name": "stdout",
     "output_type": "stream",
     "text": [
      "[1, 1, 1, [1, 1, 1], [1, 1, 1], [1, 1, 1]]\n"
     ]
    }
   ],
   "source": [
    "a = [1,1,1]\n",
    "b = [a,a,a]\n",
    "print(a+b)                           # 리스트 + 리스트 = 요소가 합쳐진 하나의 리스트 반환"
   ]
  },
  {
   "cell_type": "markdown",
   "metadata": {},
   "source": [
    "### 리스트 연산 (*)"
   ]
  },
  {
   "cell_type": "code",
   "execution_count": 11,
   "metadata": {},
   "outputs": [
    {
     "name": "stdout",
     "output_type": "stream",
     "text": [
      "['apple', 'orange', 'apple', 'orange', 'apple', 'orange']\n"
     ]
    }
   ],
   "source": [
    "a = ['apple','orange']\n",
    "print(a*3)                           # 리스트 * n = 리스트의 요소 전체가 n만큼 곱해진 후 반환"
   ]
  },
  {
   "cell_type": "markdown",
   "metadata": {},
   "source": [
    "### 리스트 길이 ( len(a) )"
   ]
  },
  {
   "cell_type": "code",
   "execution_count": 13,
   "metadata": {},
   "outputs": [
    {
     "name": "stdout",
     "output_type": "stream",
     "text": [
      "4\n"
     ]
    }
   ],
   "source": [
    "a= ['a','b',1,'hello']\n",
    "print(len(a))                        # 리스트 요소의 갯수 반환"
   ]
  },
  {
   "cell_type": "markdown",
   "metadata": {},
   "source": [
    "### 리스트에 요소 추가 ( append )"
   ]
  },
  {
   "cell_type": "code",
   "execution_count": 21,
   "metadata": {},
   "outputs": [
    {
     "name": "stdout",
     "output_type": "stream",
     "text": [
      "['first', 'second', 'third']\n"
     ]
    }
   ],
   "source": [
    "a = ['first','second']\n",
    "a.append('third')\n",
    "print(a)                              # a.append(삽입할 값)를 사용하면 리스트의 맨 끝에 요소를 추가"
   ]
  },
  {
   "cell_type": "markdown",
   "metadata": {},
   "source": [
    "### 리스트에 요소 추가 ( insert )"
   ]
  },
  {
   "cell_type": "code",
   "execution_count": 20,
   "metadata": {},
   "outputs": [
    {
     "name": "stdout",
     "output_type": "stream",
     "text": [
      "[1, 2, 3, 4, 5]\n"
     ]
    }
   ],
   "source": [
    "a= [1,2,4,5]\n",
    "a.insert(2,3)                         # a.insert(삽입할 위치, 삽입할 값)를 사용하면 원하는 위치에 요소 추가 가능\n",
    "print(a)"
   ]
  },
  {
   "cell_type": "markdown",
   "metadata": {},
   "source": [
    "### 리스트에 한 번에 요소 여러개 추가 ( extend )"
   ]
  },
  {
   "cell_type": "code",
   "execution_count": 24,
   "metadata": {},
   "outputs": [
    {
     "name": "stdout",
     "output_type": "stream",
     "text": [
      "[1, 2, 3, 4, 5]\n"
     ]
    }
   ],
   "source": [
    "a = [1,2,3]\n",
    "a.extend([4,5])                        # a.extend( 리스트 )를 사용하여 리스트 형태로 한 번에 여러개의 요소를 추가\n",
    "print(a)"
   ]
  },
  {
   "cell_type": "markdown",
   "metadata": {},
   "source": [
    "### 리스트 연결 연산자와 extend() 차이\n",
    "- 리스트 + 리스트 와 리스트.extend() 차이 : 비파괴적 , 파괴적"
   ]
  },
  {
   "cell_type": "code",
   "execution_count": 36,
   "metadata": {},
   "outputs": [
    {
     "name": "stdout",
     "output_type": "stream",
     "text": [
      "[1, 2, 3, 4, 5, 6]\n",
      "[1, 2, 3]\n"
     ]
    }
   ],
   "source": [
    "a = [1,2,3]\n",
    "b = [4,5,6]\n",
    "print(a+b)\n",
    "print(a)                                # 연산 결과 원본리스트인 a에 아무런 영향을 주지 않음 --> 비파괴적"
   ]
  },
  {
   "cell_type": "code",
   "execution_count": 35,
   "metadata": {},
   "outputs": [
    {
     "name": "stdout",
     "output_type": "stream",
     "text": [
      "[1, 2, 3, 4, 5, 6]\n"
     ]
    }
   ],
   "source": [
    "a = [1, 2, 3]\n",
    "b = [4, 5, 6]\n",
    "a.extend(b)\n",
    "print(a)                                 # 연산 결과 원본리스트인 a에 영향을 주어 요소가 바뀜 --> 파괴적"
   ]
  },
  {
   "cell_type": "markdown",
   "metadata": {},
   "source": [
    "### 리스트 요소 제거 ( 인덱스 사용 : del, pop )\n",
    "- del a[인덱스 번호]\n",
    "- a.pop(인덱스 번호)"
   ]
  },
  {
   "cell_type": "code",
   "execution_count": 38,
   "metadata": {},
   "outputs": [
    {
     "name": "stdout",
     "output_type": "stream",
     "text": [
      "[1, 2, 'four']\n"
     ]
    }
   ],
   "source": [
    "a = [1,2,3,'four']\n",
    "del a[2]\n",
    "print(a)                                 # 리스트 a에서 인덱스가 2인 요소(3)를 삭제"
   ]
  },
  {
   "cell_type": "code",
   "execution_count": 42,
   "metadata": {},
   "outputs": [
    {
     "name": "stdout",
     "output_type": "stream",
     "text": [
      "[1, 2, 3, 'four']\n",
      "['a', 'b', 'd']\n"
     ]
    }
   ],
   "source": [
    "a = [1, 2, 3, 'four', 5]\n",
    "b = ['a','b','c','d']\n",
    "a.pop()                                  \n",
    "print(a)                                 # pop() 괄호안에 아무것도 입력하지 않으면 리스트의 가장 마지막 요소를 삭제\n",
    "b.pop(2)\n",
    "print(b)                                 # b.pop(2) 리스트 b에서 인덱스가 2인 요소('c')를 삭제"
   ]
  },
  {
   "cell_type": "markdown",
   "metadata": {},
   "source": [
    "### 리스트 요소 제거 ( 값 사용: remove )"
   ]
  },
  {
   "cell_type": "code",
   "execution_count": 44,
   "metadata": {},
   "outputs": [
    {
     "name": "stdout",
     "output_type": "stream",
     "text": [
      "['apple', 'orange', 'kiwi', 'banana', 'peach']\n"
     ]
    }
   ],
   "source": [
    "a = ['apple', 'orange', 'kiwi', 'korea','banana', 'peach']\n",
    "a.remove('korea')                         # 리스트에서 'korea'라는 값을 삭제\n",
    "print(a)                                "
   ]
  },
  {
   "cell_type": "markdown",
   "metadata": {},
   "source": [
    "### 리스트 요소 모두 제거 (clear)"
   ]
  },
  {
   "cell_type": "code",
   "execution_count": 46,
   "metadata": {},
   "outputs": [
    {
     "name": "stdout",
     "output_type": "stream",
     "text": [
      "[]\n"
     ]
    }
   ],
   "source": [
    "a = [1,2,3,4,5,6,7,8,9,10]\n",
    "a.clear()                                 # 리스트 a의 모든 요소를 제거\n",
    "print(a)"
   ]
  },
  {
   "cell_type": "markdown",
   "metadata": {},
   "source": [
    "### 리스트 내부에 있는지 확인 ( in / not in)"
   ]
  },
  {
   "cell_type": "code",
   "execution_count": 50,
   "metadata": {},
   "outputs": [
    {
     "name": "stdout",
     "output_type": "stream",
     "text": [
      "True\n",
      "False\n",
      "False\n"
     ]
    }
   ],
   "source": [
    "a = ['korea', 'japan', 'usa', 'china', 'canada']\n",
    "b = [111, 222, 333, 444, 555, 666, 777]\n",
    "print('japan' in a)                        # 리스트 a에 'japan'이 들어있으면 True, 없으면 False\n",
    "print('hongkong' in a)                     # 리스트 a에 'hongkong'이 있지 않아서 False\n",
    "print('usa' not in a)                      # 리스트 a에 'usa'가 없으면 True, 없지 않으면 True"
   ]
  }
 ],
 "metadata": {
  "kernelspec": {
   "display_name": "Python 3",
   "language": "python",
   "name": "python3"
  },
  "language_info": {
   "codemirror_mode": {
    "name": "ipython",
    "version": 3
   },
   "file_extension": ".py",
   "mimetype": "text/x-python",
   "name": "python",
   "nbconvert_exporter": "python",
   "pygments_lexer": "ipython3",
   "version": "3.7.5"
  }
 },
 "nbformat": 4,
 "nbformat_minor": 2
}
