{
 "cells": [
  {
   "cell_type": "markdown",
   "metadata": {},
   "source": [
    " # 자료형\n",
    " 1. 숫자형\n",
    " 2. 문자열\n",
    " 3. 리스트\n",
    " 4. 튜플\n",
    " 5. 딕셔너리\n",
    " 6. 집합\n",
    " 7. 불"
   ]
  },
  {
   "cell_type": "markdown",
   "metadata": {},
   "source": [
    "## 딕셔너리\n",
    "- key와 value를 한 쌍으로 갖는 자료형\n",
    "- 순서의 의미 X\n",
    "- key는 중복 X --> 중복되면 1개를 제외한 나머지 key value 값 모두 무시\n",
    "- {key1:value1, key2:value2, key3:value3, ..}"
   ]
  },
  {
   "cell_type": "code",
   "execution_count": 3,
   "metadata": {},
   "outputs": [
    {
     "name": "stdout",
     "output_type": "stream",
     "text": [
      "{'name': 'tom', 'age': 20}\n"
     ]
    }
   ],
   "source": [
    "a = {'name' : 'tom', 'age' : 20}                   # 딕셔너리 선언\n",
    "print(a)"
   ]
  },
  {
   "cell_type": "code",
   "execution_count": 15,
   "metadata": {},
   "outputs": [
    {
     "name": "stdout",
     "output_type": "stream",
     "text": [
      "tom\n",
      "20\n"
     ]
    }
   ],
   "source": [
    "a = {'name' : 'tom', 'age' : 20}\n",
    "print(a['name'])                                    # 딕셔너리의 key로 value값 반환\n",
    "print(a['age'])"
   ]
  },
  {
   "cell_type": "code",
   "execution_count": 23,
   "metadata": {},
   "outputs": [
    {
     "name": "stdout",
     "output_type": "stream",
     "text": [
      "500\n",
      "300\n"
     ]
    }
   ],
   "source": [
    "a = {'tom' : 100, 'jane' : 200, 'jane' : 300, 'tom' : 400, 'tom' : 500}\n",
    "print(a['tom'])\n",
    "print(a['jane'])                                    # 중복되는 key값을 호출하면 1개를 제외한 나머지 key값의 value 반환"
   ]
  },
  {
   "cell_type": "code",
   "execution_count": 21,
   "metadata": {},
   "outputs": [
    {
     "name": "stdout",
     "output_type": "stream",
     "text": [
      "{'name': 'tom', 'age': 20, 'height': 180}\n"
     ]
    }
   ],
   "source": [
    "a = {'name' : 'tom', 'age' : 20}\n",
    "a['height'] = 180                                    # 딕셔너리 key value 쌍 추가\n",
    "print(a)"
   ]
  },
  {
   "cell_type": "code",
   "execution_count": 20,
   "metadata": {},
   "outputs": [
    {
     "name": "stdout",
     "output_type": "stream",
     "text": [
      "{'name': 'tom', 'age': 20}\n"
     ]
    }
   ],
   "source": [
    "a = {'name' : 'tom', 'age' : 20, 'color' : 'red'}\n",
    "del a['color']                                       # 딕셔너리 key value 쌍 삭제\n",
    "print(a)"
   ]
  },
  {
   "cell_type": "code",
   "execution_count": null,
   "metadata": {},
   "outputs": [],
   "source": [
    "a = {'name' : 'tom', 'age' : 20}\n",
    "print(a[])"
   ]
  },
  {
   "cell_type": "markdown",
   "metadata": {},
   "source": [
    "### 딕셔너리 관련 함수\n",
    "- key 리스트 만들기\n",
    "- value 리스트 만들기\n",
    "- key, value 쌍 얻기\n",
    "- key, value 쌍 모두 지우기"
   ]
  },
  {
   "cell_type": "code",
   "execution_count": 26,
   "metadata": {},
   "outputs": [
    {
     "name": "stdout",
     "output_type": "stream",
     "text": [
      "dict_keys(['name', 'age', 'color'])\n"
     ]
    }
   ],
   "source": [
    "a = {'name' : 'tom', 'age' : 20, 'color' : 'red'}\n",
    "print(a.keys())                                      # 딕셔너리 a의 모든 key 값을 리스트로 반환"
   ]
  },
  {
   "cell_type": "code",
   "execution_count": 29,
   "metadata": {},
   "outputs": [
    {
     "name": "stdout",
     "output_type": "stream",
     "text": [
      "dict_values(['tom', 20, 'red'])\n"
     ]
    }
   ],
   "source": [
    "a = {'name' : 'tom', 'age' : 20, 'color' : 'red'}\n",
    "print(a.values())                                    # 딕셔너리 a의 모든 value 값을 리스트로 반환"
   ]
  },
  {
   "cell_type": "code",
   "execution_count": 31,
   "metadata": {},
   "outputs": [
    {
     "name": "stdout",
     "output_type": "stream",
     "text": [
      "dict_items([('name', 'tom'), ('age', 20), ('color', 'red')])\n"
     ]
    }
   ],
   "source": [
    "a = {'name' : 'tom', 'age' : 20, 'color' : 'red'}\n",
    "print(a.items())                                     # 딕셔너리 a의 모든 key value 쌍을 리스트로 반환"
   ]
  },
  {
   "cell_type": "code",
   "execution_count": 33,
   "metadata": {},
   "outputs": [
    {
     "name": "stdout",
     "output_type": "stream",
     "text": [
      "None\n"
     ]
    }
   ],
   "source": [
    "a = {'name' : 'tom', 'age' : 20, 'color' : 'red'}\n",
    "print(a.clear())                                     # 딕셔너리 a의 모든 key value 쌍 삭제"
   ]
  },
  {
   "cell_type": "code",
   "execution_count": 37,
   "metadata": {},
   "outputs": [
    {
     "name": "stdout",
     "output_type": "stream",
     "text": [
      "tom\n"
     ]
    }
   ],
   "source": [
    "a = {'name' : 'tom', 'age' : 20, 'color' : 'red'}\n",
    "print(a.get('name'))                                 # 딕셔너리 a의 key가 'name' 의 value 호출"
   ]
  },
  {
   "cell_type": "code",
   "execution_count": 39,
   "metadata": {},
   "outputs": [
    {
     "name": "stdout",
     "output_type": "stream",
     "text": [
      "True\n"
     ]
    }
   ],
   "source": [
    "a = {'name' : 'tom', 'age' : 20, 'color' : 'red'}\n",
    "print('name' in a)                                   # 딕셔너리 a에 key가 'name' 있는지 확인"
   ]
  },
  {
   "cell_type": "code",
   "execution_count": null,
   "metadata": {},
   "outputs": [],
   "source": []
  },
  {
   "cell_type": "code",
   "execution_count": null,
   "metadata": {},
   "outputs": [],
   "source": []
  }
 ],
 "metadata": {
  "kernelspec": {
   "display_name": "Python 3",
   "language": "python",
   "name": "python3"
  },
  "language_info": {
   "codemirror_mode": {
    "name": "ipython",
    "version": 3
   },
   "file_extension": ".py",
   "mimetype": "text/x-python",
   "name": "python",
   "nbconvert_exporter": "python",
   "pygments_lexer": "ipython3",
   "version": "3.7.5"
  }
 },
 "nbformat": 4,
 "nbformat_minor": 2
}
