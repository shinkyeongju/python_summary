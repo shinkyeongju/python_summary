{
 "cells": [
  {
   "cell_type": "markdown",
   "metadata": {},
   "source": [
    " # 자료형\n",
    " 1. 숫자형\n",
    " 2. 문자열\n",
    " 3. 리스트\n",
    " 4. 튜플\n",
    " 5. 딕셔너리\n",
    " 6. 집합\n",
    " 7. 불"
   ]
  },
  {
   "cell_type": "markdown",
   "metadata": {},
   "source": [
    "## 4. 튜플\n",
    "- 리스트와 비슷\n",
    "- 리스트는 그 값의 생성, 삭제, 수저이 가능하지만 튜플은 불가능\n",
    "- a = (1,2,'three',4) "
   ]
  },
  {
   "cell_type": "markdown",
   "metadata": {},
   "source": [
    "### 튜플의 연산"
   ]
  },
  {
   "cell_type": "code",
   "execution_count": 7,
   "metadata": {},
   "outputs": [
    {
     "name": "stdout",
     "output_type": "stream",
     "text": [
      "(1, 2, 3, 1, 2, 3, 1, 2, 3)\n",
      "(1, 2, 3)\n"
     ]
    }
   ],
   "source": [
    "a = (1,2,3)\n",
    "print(a*3)\n",
    "print(a)                       # 튜플의 연산은 가능하나, 튜플 a의 값이 변하진 않는다."
   ]
  },
  {
   "cell_type": "code",
   "execution_count": 4,
   "metadata": {},
   "outputs": [
    {
     "name": "stdout",
     "output_type": "stream",
     "text": [
      "(1, 2, 3, 'one', 'two', 'three')\n"
     ]
    }
   ],
   "source": [
    "a= (1,2,3)\n",
    "b= ('one','two','three')\n",
    "print(a + b)"
   ]
  },
  {
   "cell_type": "code",
   "execution_count": 6,
   "metadata": {},
   "outputs": [
    {
     "name": "stdout",
     "output_type": "stream",
     "text": [
      "6\n"
     ]
    }
   ],
   "source": [
    "a= (1,2,3,4,'apple','orange')\n",
    "print(len(a))                   # 튜플의 길이"
   ]
  }
 ],
 "metadata": {
  "kernelspec": {
   "display_name": "Python 3",
   "language": "python",
   "name": "python3"
  },
  "language_info": {
   "codemirror_mode": {
    "name": "ipython",
    "version": 3
   },
   "file_extension": ".py",
   "mimetype": "text/x-python",
   "name": "python",
   "nbconvert_exporter": "python",
   "pygments_lexer": "ipython3",
   "version": "3.7.5"
  }
 },
 "nbformat": 4,
 "nbformat_minor": 2
}
