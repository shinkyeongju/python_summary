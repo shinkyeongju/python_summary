{
 "cells": [
  {
   "cell_type": "markdown",
   "metadata": {},
   "source": [
    " # 자료형\n",
    " 1. 숫자형\n",
    " 2. 문자열\n",
    " 3. 리스트\n",
    " 4. 튜플\n",
    " 5. 딕셔너리\n",
    " 6. 집합\n",
    " 7. 불"
   ]
  },
  {
   "cell_type": "markdown",
   "metadata": {},
   "source": [
    "## 2. 문자열"
   ]
  },
  {
   "cell_type": "markdown",
   "metadata": {},
   "source": [
    "### 문자열 표현"
   ]
  },
  {
   "cell_type": "code",
   "execution_count": 2,
   "metadata": {},
   "outputs": [
    {
     "name": "stdout",
     "output_type": "stream",
     "text": [
      "hi,hi,hi,hi\n"
     ]
    }
   ],
   "source": [
    "# ' ', \" \", ''' ''', \"\"\" \"\"\" 모두 가능\n",
    "a,b,c,d = 'hi', \"hi\", '''hi''', \"\"\"hi\"\"\"\n",
    "print(f'{a},{b},{c},{d}')"
   ]
  },
  {
   "cell_type": "markdown",
   "metadata": {},
   "source": [
    "### 문자열에 작은따옴표(') 포함시키기"
   ]
  },
  {
   "cell_type": "code",
   "execution_count": 16,
   "metadata": {},
   "outputs": [
    {
     "name": "stdout",
     "output_type": "stream",
     "text": [
      "a :  what's your name? \n",
      "b :  what's your name? \n",
      "c :  what's your name? \n",
      "d :  what's your name?\n"
     ]
    }
   ],
   "source": [
    "a = \"what's your name?\"\n",
    "b = 'what\\'s your name?'\n",
    "c = '''what's your name?'''\n",
    "d = \"\"\"what's your name?\"\"\"\n",
    "print('a : ',a, '\\nb : ',b, '\\nc : ',c, '\\nd : ',d)"
   ]
  },
  {
   "cell_type": "markdown",
   "metadata": {},
   "source": [
    "### 문자열에 큰따옴표(\") 포함시키기"
   ]
  },
  {
   "cell_type": "code",
   "execution_count": 18,
   "metadata": {},
   "outputs": [
    {
     "name": "stdout",
     "output_type": "stream",
     "text": [
      "a :  he said, \"i am here\" \n",
      "b :  he said, \"i am here\" \n",
      "c :  he said, \"i am here\"  \n",
      "d :  he said, \"i am here\"\n"
     ]
    }
   ],
   "source": [
    "a = 'he said, \"i am here\"'\n",
    "b = \"he said, \\\"i am here\\\"\"\n",
    "c = \"\"\"he said, \"i am here\" \"\"\"\n",
    "d = '''he said, \"i am here\"'''\n",
    "print('a : ',a, '\\nb : ',b, '\\nc : ',c, '\\nd : ',d)"
   ]
  },
  {
   "cell_type": "markdown",
   "metadata": {},
   "source": [
    "### 문자열 여러 줄을 입력 \n",
    "1. 이스케이프 코드 '\\n' 사용\n",
    "2. ''' ''', \"\"\" \"\"\" 사용"
   ]
  },
  {
   "cell_type": "code",
   "execution_count": 31,
   "metadata": {},
   "outputs": [
    {
     "name": "stdout",
     "output_type": "stream",
     "text": [
      "<메뉴>\n",
      "짜장면\n",
      "짬뽕\n",
      " \n",
      "<메뉴>\n",
      "짜장면\n",
      "짬뽕\n"
     ]
    }
   ],
   "source": [
    "a = '<메뉴>\\n짜장면\\n짬뽕'\n",
    "b = '''<메뉴>\n",
    "짜장면\n",
    "짬뽕'''\n",
    "print(a+'\\n','\\n'+b)"
   ]
  },
  {
   "cell_type": "markdown",
   "metadata": {},
   "source": [
    "## 문자열 연산\n",
    "1. 더하기\n",
    "2. 곱하기\n",
    "3. 문자열 길이 구하기"
   ]
  },
  {
   "cell_type": "markdown",
   "metadata": {},
   "source": [
    "### 더하기 (+)"
   ]
  },
  {
   "cell_type": "code",
   "execution_count": 34,
   "metadata": {},
   "outputs": [
    {
     "name": "stdout",
     "output_type": "stream",
     "text": [
      "you need python\n"
     ]
    }
   ],
   "source": [
    "a = 'you need '\n",
    "b = 'python'\n",
    "print(a+b)"
   ]
  },
  {
   "cell_type": "markdown",
   "metadata": {},
   "source": [
    "### 곱하기 (*)"
   ]
  },
  {
   "cell_type": "code",
   "execution_count": 37,
   "metadata": {},
   "outputs": [
    {
     "name": "stdout",
     "output_type": "stream",
     "text": [
      "a * 2 = hihi\n"
     ]
    }
   ],
   "source": [
    "a = 'hi'\n",
    "print(f'a * 2 = {a*2}')"
   ]
  },
  {
   "cell_type": "code",
   "execution_count": 38,
   "metadata": {},
   "outputs": [
    {
     "name": "stdout",
     "output_type": "stream",
     "text": [
      "a * (-1) = \n"
     ]
    }
   ],
   "source": [
    "print(f'a * (-1) = {a * -1}')"
   ]
  },
  {
   "cell_type": "code",
   "execution_count": 40,
   "metadata": {},
   "outputs": [
    {
     "data": {
      "text/plain": [
       "''"
      ]
     },
     "execution_count": 40,
     "metadata": {},
     "output_type": "execute_result"
    }
   ],
   "source": [
    "a*-1    # 문자열에 음수를 곱하면 아무런 값도 나오지 않는다"
   ]
  },
  {
   "cell_type": "code",
   "execution_count": 43,
   "metadata": {},
   "outputs": [
    {
     "ename": "TypeError",
     "evalue": "can't multiply sequence by non-int of type 'float'",
     "output_type": "error",
     "traceback": [
      "\u001b[1;31m---------------------------------------------------------------------------\u001b[0m",
      "\u001b[1;31mTypeError\u001b[0m                                 Traceback (most recent call last)",
      "\u001b[1;32m<ipython-input-43-d7d6fe48823e>\u001b[0m in \u001b[0;36m<module>\u001b[1;34m\u001b[0m\n\u001b[1;32m----> 1\u001b[1;33m \u001b[0mprint\u001b[0m\u001b[1;33m(\u001b[0m\u001b[1;34mf'a * 2.5 = {a * 2.5}'\u001b[0m\u001b[1;33m)\u001b[0m    \u001b[1;31m# 문자열과 실수는 연산이 불가능하다\u001b[0m\u001b[1;33m\u001b[0m\u001b[1;33m\u001b[0m\u001b[0m\n\u001b[0m",
      "\u001b[1;31mTypeError\u001b[0m: can't multiply sequence by non-int of type 'float'"
     ]
    }
   ],
   "source": [
    "print(f'a * 2.5 = {a * 2.5}')    # 문자열과 실수는 연산이 불가능하다"
   ]
  },
  {
   "cell_type": "code",
   "execution_count": 46,
   "metadata": {},
   "outputs": [
    {
     "name": "stdout",
     "output_type": "stream",
     "text": [
      "a의 길이는 : 5\n"
     ]
    }
   ],
   "source": [
    "a = 'Apple'   # Apple 5글자\n",
    "print(f'a의 길이는 : {len(a)}')"
   ]
  },
  {
   "cell_type": "markdown",
   "metadata": {},
   "source": [
    "## 문자열 인덱싱\n",
    "- 문자열에서 각 문자의 위치를 숫자로 표현\n",
    "- 제일 처음 문자 0부터 시작\n",
    "- 제일 마지막 문자부터 시작하면 -1부터 시작\n",
    "- 문자열[], 혹은 문자열이 들어있는 변수[] 처럼 표현\n",
    "- 한 번에 문자 하나 추출"
   ]
  },
  {
   "cell_type": "code",
   "execution_count": 136,
   "metadata": {},
   "outputs": [
    {
     "name": "stdout",
     "output_type": "stream",
     "text": [
      "a[0] = p, a[1] = y, a[2] = t, a[3] = h, a[4] = o, a[5] = n\n"
     ]
    }
   ],
   "source": [
    "a = 'python'\n",
    "print(f'a[0] = {a[0]}, a[1] = {a[1]}, a[2] = {a[2]}, a[3] = {a[3]}, a[4] = {a[4]}, a[5] = {a[5]}')"
   ]
  },
  {
   "cell_type": "code",
   "execution_count": 76,
   "metadata": {},
   "outputs": [
    {
     "name": "stdout",
     "output_type": "stream",
     "text": [
      "python[0] =  p \n",
      "python[-1] = n \n",
      "python[5] = n\n"
     ]
    }
   ],
   "source": [
    "print('python[0] = ','python'[0], '\\n'+'python[-1] =', 'python'[-1], '\\n'+'python[5] =', 'python'[5])\n",
    "# python[-1] == python[5]"
   ]
  },
  {
   "cell_type": "markdown",
   "metadata": {},
   "source": [
    "## 문자열 슬라이싱\n",
    "- 문자열에서 n번째 문자부터 m번째 문자까지 여러개 문자 추출\n",
    "- 문자열[시작인덱스:끝인덱스]\n",
    "- 슬라이싱의 범위에서 끝인덱스는 추출되지 않음"
   ]
  },
  {
   "cell_type": "code",
   "execution_count": 93,
   "metadata": {},
   "outputs": [
    {
     "name": "stdout",
     "output_type": "stream",
     "text": [
      "a[0:8] =  abbcccdd\n",
      "b[0:8] =  a bb ccc\n",
      "a[-5:-1] =  eeee\n",
      "a[:4] =  abbc\n",
      "a[3:] =  cccddddeeeee! , a[15] =  !\n",
      "a[2:5] =  bcc\n"
     ]
    }
   ],
   "source": [
    "a = 'abbcccddddeeeee!'\n",
    "b = 'a bb ccc dddd eeeee!'\n",
    "print('a[0:8] = ', a[0:8])                          # a[0]부터 a[7]까지만 출력. 공백도 하나의 인덱스를 차지\n",
    "print('b[0:8] = ', b[0:8])\n",
    "print('a[-5:-1] = ', a[-5:-1])                      # a[-5] == a[11], a[-1] == a[14] --> -1 포함 x\n",
    "print('a[:4] = ', a[:4])                            # a[:4]는 a[0] ~ a[3]까지 4개 추출\n",
    "print('a[3:] = ', a[3:], ', a[15] = ', a[15])       # a[3:]는 a[3] ~ a[15]까지 추출\n",
    "print('a[2:5] = ', a[2:5])                          # a[2:5]는 a[2] ~ a[4]까지 3개 추출 --> 3번째 문자부터 5번째 문자까지"
   ]
  },
  {
   "cell_type": "markdown",
   "metadata": {},
   "source": [
    "## 문자열 포매팅\n",
    "- 문자열 안에 어떤 값을 삽입하는 방법"
   ]
  },
  {
   "cell_type": "markdown",
   "metadata": {},
   "source": [
    "### 포맷코드 : %s --> 문자열"
   ]
  },
  {
   "cell_type": "code",
   "execution_count": 94,
   "metadata": {},
   "outputs": [
    {
     "name": "stdout",
     "output_type": "stream",
     "text": [
      "I have five apple\n"
     ]
    }
   ],
   "source": [
    "print('I have %s apple' %'five')"
   ]
  },
  {
   "cell_type": "markdown",
   "metadata": {},
   "source": [
    "### 포맷코드 : %d --> 정수"
   ]
  },
  {
   "cell_type": "code",
   "execution_count": 95,
   "metadata": {},
   "outputs": [
    {
     "name": "stdout",
     "output_type": "stream",
     "text": [
      "I have 5 apple\n"
     ]
    }
   ],
   "source": [
    "print('I have %d apple' %5)"
   ]
  },
  {
   "cell_type": "markdown",
   "metadata": {},
   "source": [
    "### 포맷코드 : %f --> 실수 (부동 소수)"
   ]
  },
  {
   "cell_type": "code",
   "execution_count": 119,
   "metadata": {},
   "outputs": [
    {
     "name": "stdout",
     "output_type": "stream",
     "text": [
      "My height is 180.23232\n"
     ]
    }
   ],
   "source": [
    "print('My height is %.5f' % 180.232323232323)            # %.5f --> 소수점5개까지 표현"
   ]
  },
  {
   "cell_type": "code",
   "execution_count": 123,
   "metadata": {},
   "outputs": [
    {
     "name": "stdout",
     "output_type": "stream",
     "text": [
      "My height is 180.220000, My weight is 76\n"
     ]
    }
   ],
   "source": [
    "print('My height is %f, My weight is %d' % (180.22, 76)) # 2개 이상의 값 넣기"
   ]
  },
  {
   "cell_type": "code",
   "execution_count": 127,
   "metadata": {},
   "outputs": [
    {
     "name": "stdout",
     "output_type": "stream",
     "text": [
      "Today is September, 12\n"
     ]
    }
   ],
   "source": [
    "print('Today is %s, %d' % ('September', 12))             # 문자, 숫자 혼합 가능"
   ]
  },
  {
   "cell_type": "markdown",
   "metadata": {},
   "source": [
    "### f포매팅\n",
    "- f'name : {}, age : {}, sex : {}' 형식\n",
    "- {}안에 값 또는 변수를 넣어서 사용. {}안에서 연산도 가능"
   ]
  },
  {
   "cell_type": "code",
   "execution_count": 129,
   "metadata": {},
   "outputs": [
    {
     "name": "stdout",
     "output_type": "stream",
     "text": [
      "name : Tom, age : 22, height : 180, height + weight : 270\n"
     ]
    }
   ],
   "source": [
    "myname = 'Tom'\n",
    "myage = 22\n",
    "myheight = 180\n",
    "myweight = 90\n",
    "print(f'name : {myname}, age : {myage}, height : {180}, height + weight : {myheight+myweight}')"
   ]
  },
  {
   "cell_type": "markdown",
   "metadata": {},
   "source": [
    "## 문자열 관련 함수\n",
    "#### 변수.함수() 또는 문자열.함수() 처럼 사용\n",
    "- count : 문자 갯수 세기\n",
    "- find : 문자 위치 알려주기\n",
    "- index : 문자 위치 알려주기\n",
    "- join : 문자열 삽입\n",
    "- upper : 소문자를 대문자로 바꾸기\n",
    "- lower : 대문자를 소문자로 바꾸기\n",
    "- strip : 양쪽 공백지우기 \n",
    " - lstrip : 왼쪽 공백지우기\n",
    " - rstrip : 오른쪽 공백지우기\n",
    "- replace : 문자열 바꾸기\n",
    "- split : 문자열 나누기"
   ]
  },
  {
   "cell_type": "markdown",
   "metadata": {},
   "source": [
    "### count : 문자 갯수 세기"
   ]
  },
  {
   "cell_type": "code",
   "execution_count": 140,
   "metadata": {},
   "outputs": [
    {
     "name": "stdout",
     "output_type": "stream",
     "text": [
      "2\n",
      "2\n"
     ]
    }
   ],
   "source": [
    "a = 'apple'\n",
    "print('apple'.count('p'))\n",
    "print(a.count('p'))              # p의 갯수ㅡ"
   ]
  },
  {
   "cell_type": "markdown",
   "metadata": {},
   "source": [
    "### find : 문자 위치 알려주기"
   ]
  },
  {
   "cell_type": "code",
   "execution_count": 142,
   "metadata": {},
   "outputs": [
    {
     "name": "stdout",
     "output_type": "stream",
     "text": [
      "3\n",
      "1\n",
      "-1\n"
     ]
    }
   ],
   "source": [
    "print('apple'.find('l'))         # l의 위치 --> 0부터 세기때문에 4가 아닌 3이다\n",
    "print('apple'.find('p'))         # 2개 이상의 문자열에 대해서 제일 먼저 나오는 위치를 알려줌 \n",
    "print('apple'.find('k'))         # 없는 문자열을 찾을 경우 -1을 반환"
   ]
  },
  {
   "cell_type": "markdown",
   "metadata": {},
   "source": [
    "### index : 문자 위치 알려주기\n",
    "#### find함수와 index함수의 다른 점: 없는 문자를 찾을 경우 find함수는 -1을 반환, index는 에러 발생"
   ]
  },
  {
   "cell_type": "code",
   "execution_count": 148,
   "metadata": {},
   "outputs": [
    {
     "name": "stdout",
     "output_type": "stream",
     "text": [
      "3\n",
      "1\n"
     ]
    }
   ],
   "source": [
    "print('apple'.index('l'))        # ㅣ의 인덱스 번호\n",
    "print('apple'.index('p'))        # 2개 이상의 문자열에 대해서 제일 먼저 나오는 위치를 알려줌"
   ]
  },
  {
   "cell_type": "code",
   "execution_count": 149,
   "metadata": {},
   "outputs": [
    {
     "ename": "ValueError",
     "evalue": "substring not found",
     "output_type": "error",
     "traceback": [
      "\u001b[1;31m---------------------------------------------------------------------------\u001b[0m",
      "\u001b[1;31mValueError\u001b[0m                                Traceback (most recent call last)",
      "\u001b[1;32m<ipython-input-149-8fdf7257f4ed>\u001b[0m in \u001b[0;36m<module>\u001b[1;34m\u001b[0m\n\u001b[1;32m----> 1\u001b[1;33m \u001b[0mprint\u001b[0m\u001b[1;33m(\u001b[0m\u001b[1;34m'apple'\u001b[0m\u001b[1;33m.\u001b[0m\u001b[0mindex\u001b[0m\u001b[1;33m(\u001b[0m\u001b[1;34m'k'\u001b[0m\u001b[1;33m)\u001b[0m\u001b[1;33m)\u001b[0m        \u001b[1;31m# 없는 문자열을 찾을 경우 에러\u001b[0m\u001b[1;33m\u001b[0m\u001b[1;33m\u001b[0m\u001b[0m\n\u001b[0m",
      "\u001b[1;31mValueError\u001b[0m: substring not found"
     ]
    }
   ],
   "source": [
    "print('apple'.index('k'))        # 없는 문자열을 찾을 경우 에러"
   ]
  },
  {
   "cell_type": "markdown",
   "metadata": {},
   "source": [
    "### join : 문자열 삽입"
   ]
  },
  {
   "cell_type": "code",
   "execution_count": 151,
   "metadata": {},
   "outputs": [
    {
     "name": "stdout",
     "output_type": "stream",
     "text": [
      "a,p,p,l,e\n"
     ]
    }
   ],
   "source": [
    "print(','.join('apple'))        # 'apple'의 각 문자열에 ','를 삽입"
   ]
  },
  {
   "cell_type": "markdown",
   "metadata": {},
   "source": [
    "### upper : 소문자를 대문자로 변환"
   ]
  },
  {
   "cell_type": "code",
   "execution_count": 152,
   "metadata": {},
   "outputs": [
    {
     "name": "stdout",
     "output_type": "stream",
     "text": [
      "APPLE\n"
     ]
    }
   ],
   "source": [
    "print('apple'.upper())"
   ]
  },
  {
   "cell_type": "markdown",
   "metadata": {},
   "source": [
    "### lower : 대문자를 소문자로 변환"
   ]
  },
  {
   "cell_type": "code",
   "execution_count": 153,
   "metadata": {},
   "outputs": [
    {
     "name": "stdout",
     "output_type": "stream",
     "text": [
      "apple\n"
     ]
    }
   ],
   "source": [
    "print('APPLE'.lower())"
   ]
  },
  {
   "cell_type": "markdown",
   "metadata": {},
   "source": [
    "### strip : 양쪽 공백지우기"
   ]
  },
  {
   "cell_type": "code",
   "execution_count": 161,
   "metadata": {},
   "outputs": [
    {
     "name": "stdout",
     "output_type": "stream",
     "text": [
      "apple\n"
     ]
    }
   ],
   "source": [
    "print('    apple    '.strip())               # 양쪽 공백 지우기"
   ]
  },
  {
   "cell_type": "code",
   "execution_count": 162,
   "metadata": {},
   "outputs": [
    {
     "name": "stdout",
     "output_type": "stream",
     "text": [
      "apple\n"
     ]
    }
   ],
   "source": [
    "print('            apple'.strip())           # 왼쪽 공백 지우기"
   ]
  },
  {
   "cell_type": "code",
   "execution_count": 165,
   "metadata": {},
   "outputs": [
    {
     "name": "stdout",
     "output_type": "stream",
     "text": [
      "apple\n"
     ]
    }
   ],
   "source": [
    "print('apple           '.strip())            # 오른쪽 공백 지우기"
   ]
  },
  {
   "cell_type": "code",
   "execution_count": 170,
   "metadata": {},
   "outputs": [
    {
     "name": "stdout",
     "output_type": "stream",
     "text": [
      "python is fast\n"
     ]
    }
   ],
   "source": [
    "a = 'c++ is fast'\n",
    "print(a.replace('c++','python'))             # 'c++'을 'python'으로 문자열 바꾸기"
   ]
  },
  {
   "cell_type": "markdown",
   "metadata": {},
   "source": [
    "### split : 문자열 나누기\n",
    "- split() 괄호안에 아무 값도 넣어주지 않으면 공백을 기준으로 나눔\n",
    " - 공백 : 스페이스, 탭, 엔터 등\n",
    "- 문자열을 나눠서 list로 반환\n"
   ]
  },
  {
   "cell_type": "code",
   "execution_count": 173,
   "metadata": {},
   "outputs": [
    {
     "name": "stdout",
     "output_type": "stream",
     "text": [
      "['a', 'b', 'c', 'd', 'e', 'f']\n",
      "['a', 'b', 'c', 'd', 'e', 'f']\n",
      "['Life', 'is', 'so', 'cool']\n"
     ]
    }
   ],
   "source": [
    "print('a b c d e f'.split())                 # 문자열 나누기\n",
    "print('a,b,c,d,e,f'.split(','))              # ','를 기준으로 나누기\n",
    "print('Life is so cool'.split())"
   ]
  }
 ],
 "metadata": {
  "kernelspec": {
   "display_name": "Python 3",
   "language": "python",
   "name": "python3"
  },
  "language_info": {
   "codemirror_mode": {
    "name": "ipython",
    "version": 3
   },
   "file_extension": ".py",
   "mimetype": "text/x-python",
   "name": "python",
   "nbconvert_exporter": "python",
   "pygments_lexer": "ipython3",
   "version": "3.7.5"
  }
 },
 "nbformat": 4,
 "nbformat_minor": 2
}
